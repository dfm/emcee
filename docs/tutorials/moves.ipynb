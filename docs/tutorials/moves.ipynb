{
 "cells": [
  {
   "cell_type": "markdown",
   "metadata": {},
   "source": [
    "(moves)=\n",
    "\n",
    "# Using different moves\n",
    "\n",
    "One of the most important new features included in the version 3 release of emcee is the interface for using different \"moves\" (see {ref}`moves-user` for the API docs).\n",
    "To demonstrate this interface, we'll set up a slightly contrived example where we're sampling from a mixture of two Gaussians in 1D:"
   ]
  },
  {
   "cell_type": "code",
   "execution_count": null,
   "metadata": {
    "tags": [
     "hide-cell"
    ]
   },
   "outputs": [],
   "source": [
    "%config InlineBackend.figure_format = \"retina\"\n",
    "\n",
    "from matplotlib import rcParams\n",
    "rcParams[\"savefig.dpi\"] = 100\n",
    "rcParams[\"figure.dpi\"] = 100\n",
    "rcParams[\"font.size\"] = 20"
   ]
  },
  {
   "cell_type": "code",
   "execution_count": null,
   "metadata": {},
   "outputs": [],
   "source": [
    "import numpy as np\n",
    "import matplotlib.pyplot as plt\n",
    "\n",
    "\n",
    "def logprob(x):\n",
    "    return np.sum(\n",
    "        np.logaddexp(\n",
    "            -0.5 * (x - 2) ** 2,\n",
    "            -0.5 * (x + 2) ** 2,\n",
    "        )\n",
    "        - 0.5 * np.log(2 * np.pi)\n",
    "        - np.log(2)\n",
    "    )\n",
    "\n",
    "\n",
    "x = np.linspace(-5.5, 5.5, 5000)\n",
    "plt.plot(x, np.exp(list(map(logprob, x))), \"k\")\n",
    "plt.yticks([])\n",
    "plt.xlim(-5.5, 5.5)\n",
    "plt.ylabel(\"p(x)\")\n",
    "plt.xlabel(\"x\");"
   ]
  },
  {
   "cell_type": "markdown",
   "metadata": {},
   "source": [
    "Now we can sample this using emcee and the default {class}`moves.StretchMove`:"
   ]
  },
  {
   "cell_type": "code",
   "execution_count": null,
   "metadata": {},
   "outputs": [],
   "source": [
    "import emcee\n",
    "\n",
    "np.random.seed(589403)\n",
    "\n",
    "init = np.random.randn(32, 1)\n",
    "nwalkers, ndim = init.shape\n",
    "\n",
    "sampler0 = emcee.EnsembleSampler(nwalkers, ndim, logprob)\n",
    "sampler0.run_mcmc(init, 5000)\n",
    "\n",
    "print(\"Autocorrelation time: {0:.2f} steps\".format(sampler0.get_autocorr_time()[0]))"
   ]
  },
  {
   "cell_type": "markdown",
   "metadata": {},
   "source": [
    "This autocorrelation time seems long for a 1D problem!\n",
    "We can also see this effect qualitatively by looking at the trace for one of the walkers:"
   ]
  },
  {
   "cell_type": "code",
   "execution_count": null,
   "metadata": {},
   "outputs": [],
   "source": [
    "plt.plot(sampler0.get_chain()[:, 0, 0], \"k\", lw=0.5)\n",
    "plt.xlim(0, 5000)\n",
    "plt.ylim(-5.5, 5.5)\n",
    "plt.title(\"move: StretchMove\", fontsize=14)\n",
    "plt.xlabel(\"step number\")\n",
    "plt.ylabel(\"x\");"
   ]
  },
  {
   "cell_type": "markdown",
   "metadata": {},
   "source": [
    "For \"lightly\" multimodal problems like these, some combination of the {class}`moves.DEMove` and {class}`moves.DESnookerMove` can often perform better than the default.\n",
    "In this case, let's use a weighted mixture of the two moves.\n",
    "In deatil, this means that, at each step, we'll randomly select either a :class:`moves.DEMove` (with 80% probability) or a {class}`moves.DESnookerMove` (with 20% probability)."
   ]
  },
  {
   "cell_type": "code",
   "execution_count": null,
   "metadata": {},
   "outputs": [],
   "source": [
    "np.random.seed(93284)\n",
    "\n",
    "sampler = emcee.EnsembleSampler(\n",
    "    nwalkers,\n",
    "    ndim,\n",
    "    logprob,\n",
    "    moves=[\n",
    "        (emcee.moves.DEMove(), 0.8),\n",
    "        (emcee.moves.DESnookerMove(), 0.2),\n",
    "    ],\n",
    ")\n",
    "sampler.run_mcmc(init, 5000)\n",
    "\n",
    "print(\"Autocorrelation time: {0:.2f} steps\".format(sampler.get_autocorr_time()[0]))\n",
    "\n",
    "plt.plot(sampler.get_chain()[:, 0, 0], \"k\", lw=0.5)\n",
    "plt.xlim(0, 5000)\n",
    "plt.ylim(-5.5, 5.5)\n",
    "plt.title(\"move: [(DEMove, 0.8), (DESnookerMove, 0.2)]\", fontsize=14)\n",
    "plt.xlabel(\"step number\")\n",
    "plt.ylabel(\"x\");"
   ]
  },
  {
   "cell_type": "markdown",
   "metadata": {},
   "source": [
    "That looks a lot better!\n",
    "\n",
    "The idea with the {ref}`moves-user` interface is that it should be easy for users to try out several different moves to find the combination that works best for their problem so you should head over to {ref}`moves-user` to see all the details!"
   ]
  },
  {
   "cell_type": "code",
   "execution_count": null,
   "metadata": {},
   "outputs": [],
   "source": []
  }
 ],
 "metadata": {
  "kernelspec": {
   "display_name": "Python 3",
   "language": "python",
   "name": "python3"
  },
  "language_info": {
   "codemirror_mode": {
    "name": "ipython",
    "version": 3
   },
   "file_extension": ".py",
   "mimetype": "text/x-python",
   "name": "python",
   "nbconvert_exporter": "python",
   "pygments_lexer": "ipython3",
   "version": "3.9.4"
  }
 },
 "nbformat": 4,
 "nbformat_minor": 4
}
